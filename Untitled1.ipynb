{
  "nbformat": 4,
  "nbformat_minor": 0,
  "metadata": {
    "colab": {
      "name": "Untitled1.ipynb",
      "provenance": [],
      "authorship_tag": "ABX9TyMJQvuEbB+UDpEEJ5iEJhS5",
      "include_colab_link": true
    },
    "kernelspec": {
      "name": "python3",
      "display_name": "Python 3"
    },
    "language_info": {
      "name": "python"
    }
  },
  "cells": [
    {
      "cell_type": "markdown",
      "metadata": {
        "id": "view-in-github",
        "colab_type": "text"
      },
      "source": [
        "<a href=\"https://colab.research.google.com/github/dharaneeshgunturu2003/Basic-ML/blob/main/Untitled1.ipynb\" target=\"_parent\"><img src=\"https://colab.research.google.com/assets/colab-badge.svg\" alt=\"Open In Colab\"/></a>"
      ]
    },
    {
      "cell_type": "code",
      "metadata": {
        "id": "DYFqpsk4wBzA"
      },
      "source": [
        ""
      ],
      "execution_count": null,
      "outputs": []
    },
    {
      "cell_type": "markdown",
      "metadata": {
        "id": "QId8KeCuwCcC"
      },
      "source": [
        "print two numbers "
      ]
    },
    {
      "cell_type": "code",
      "metadata": {
        "colab": {
          "base_uri": "https://localhost:8080/"
        },
        "id": "EWOSQ0erwE5K",
        "outputId": "452e8d67-a94b-4625-cdeb-dcee4e4b59d9"
      },
      "source": [
        "a=int(input())\n",
        "b=int(input())\n",
        "print(a+b)"
      ],
      "execution_count": 2,
      "outputs": [
        {
          "output_type": "stream",
          "text": [
            "12\n",
            "23\n",
            "35\n"
          ],
          "name": "stdout"
        }
      ]
    },
    {
      "cell_type": "markdown",
      "metadata": {
        "id": "DI2Cf_uHwy8A"
      },
      "source": [
        "print sum 0f n numbers\n"
      ]
    },
    {
      "cell_type": "code",
      "metadata": {
        "colab": {
          "base_uri": "https://localhost:8080/"
        },
        "id": "DDzUzhbsw5zb",
        "outputId": "cfac93dd-606b-428f-92c8-7b8daa7bf7bb"
      },
      "source": [
        "a=int(input())\n",
        "sum=0\n",
        "for i in range(a):\n",
        "  sum=sum+i\n",
        "print(sum)"
      ],
      "execution_count": 3,
      "outputs": [
        {
          "output_type": "stream",
          "text": [
            "5\n",
            "10\n"
          ],
          "name": "stdout"
        }
      ]
    },
    {
      "cell_type": "markdown",
      "metadata": {
        "id": "HD-Q1KjUxHPB"
      },
      "source": [
        "string palindrome"
      ]
    },
    {
      "cell_type": "code",
      "metadata": {
        "colab": {
          "base_uri": "https://localhost:8080/"
        },
        "id": "itfpspO5xKNl",
        "outputId": "f374be92-58c1-453e-cb48-f62b3e877af3"
      },
      "source": [
        "a=input()\n",
        "b=a[::-1]\n",
        "if(a==b):\n",
        "  print(\"the given string is palindrome\")\n",
        "else:\n",
        "  print(\"the given string is not a palindrome\")"
      ],
      "execution_count": 4,
      "outputs": [
        {
          "output_type": "stream",
          "text": [
            "madam\n",
            "the given string is palindrome\n"
          ],
          "name": "stdout"
        }
      ]
    },
    {
      "cell_type": "markdown",
      "metadata": {
        "id": "ze1ExBhRxiPO"
      },
      "source": [
        "# New Section"
      ]
    }
  ]
}