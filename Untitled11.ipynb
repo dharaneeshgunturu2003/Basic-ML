{
  "nbformat": 4,
  "nbformat_minor": 0,
  "metadata": {
    "colab": {
      "name": "Untitled11.ipynb",
      "provenance": [],
      "authorship_tag": "ABX9TyMTh1wNBUjkhmKHy79AmcOV",
      "include_colab_link": true
    },
    "kernelspec": {
      "name": "python3",
      "display_name": "Python 3"
    },
    "language_info": {
      "name": "python"
    }
  },
  "cells": [
    {
      "cell_type": "markdown",
      "metadata": {
        "id": "view-in-github",
        "colab_type": "text"
      },
      "source": [
        "<a href=\"https://colab.research.google.com/github/dharaneeshgunturu2003/Basic-ML/blob/main/Untitled11.ipynb\" target=\"_parent\"><img src=\"https://colab.research.google.com/assets/colab-badge.svg\" alt=\"Open In Colab\"/></a>"
      ]
    },
    {
      "cell_type": "markdown",
      "metadata": {
        "id": "UvNhZBYraNlr"
      },
      "source": [
        "sort out all the numbers in a list using python"
      ]
    },
    {
      "cell_type": "code",
      "metadata": {
        "colab": {
          "base_uri": "https://localhost:8080/"
        },
        "id": "5WP6GWY1aTWX",
        "outputId": "da7499f3-8466-493e-8633-b4591749338a"
      },
      "source": [
        " print(\"Enter number of values in a list\")\n",
        " a=int(input())\n",
        " b=[]\n",
        " for i in range(0,a-1):\n",
        "   c=int(input())\n",
        "   b.append(c)\n",
        "b.sort()\n",
        "print(b)"
      ],
      "execution_count": 3,
      "outputs": [
        {
          "output_type": "stream",
          "name": "stdout",
          "text": [
            "Enter number of values in a list\n",
            "5\n",
            "1\n",
            "2\n",
            "6\n",
            "4\n",
            "[1, 2, 4, 6]\n"
          ]
        }
      ]
    }
  ]
}