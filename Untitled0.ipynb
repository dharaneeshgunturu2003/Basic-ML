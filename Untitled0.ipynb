{
  "nbformat": 4,
  "nbformat_minor": 0,
  "metadata": {
    "colab": {
      "name": "Untitled0.ipynb",
      "provenance": [],
      "authorship_tag": "ABX9TyPMENKkJ1nHzHG5skg1RPJY",
      "include_colab_link": true
    },
    "kernelspec": {
      "name": "python3",
      "display_name": "Python 3"
    },
    "language_info": {
      "name": "python"
    }
  },
  "cells": [
    {
      "cell_type": "markdown",
      "metadata": {
        "id": "view-in-github",
        "colab_type": "text"
      },
      "source": [
        "<a href=\"https://colab.research.google.com/github/dharaneeshgunturu2003/Basic-ML/blob/main/Untitled0.ipynb\" target=\"_parent\"><img src=\"https://colab.research.google.com/assets/colab-badge.svg\" alt=\"Open In Colab\"/></a>"
      ]
    },
    {
      "cell_type": "code",
      "metadata": {
        "id": "lRL-hMSt8QTi"
      },
      "source": [
        ""
      ],
      "execution_count": null,
      "outputs": []
    },
    {
      "cell_type": "markdown",
      "metadata": {
        "id": "jc30sKXg8RkW"
      },
      "source": [
        "Program for adding two numbers"
      ]
    },
    {
      "cell_type": "code",
      "metadata": {
        "colab": {
          "base_uri": "https://localhost:8080/"
        },
        "id": "wbhfqX_a8dwf",
        "outputId": "ba76ff3b-e1fc-4af7-ea9a-d4122598cae4"
      },
      "source": [
        "a=int(input())\n",
        "b=int(input())\n",
        "print(a+b)"
      ],
      "execution_count": 1,
      "outputs": [
        {
          "output_type": "stream",
          "text": [
            "12\n",
            "23\n",
            "35\n"
          ],
          "name": "stdout"
        }
      ]
    },
    {
      "cell_type": "markdown",
      "metadata": {
        "id": "pN3u7apS8ufk"
      },
      "source": [
        "python code for get 15 leap years "
      ]
    },
    {
      "cell_type": "code",
      "metadata": {
        "colab": {
          "base_uri": "https://localhost:8080/"
        },
        "id": "IjtZADUK9GdK",
        "outputId": "6e6eb041-204b-4eeb-9fd6-6b2206682bc0"
      },
      "source": [
        "n=0\n",
        "lst_yrs=[]  \n",
        "yr=int(input())\n",
        "while n<15:\n",
        "    if(yr%400==0 or (yr%4==0 and yr%100!=0)):\n",
        "        lst_yrs.append(str(yr))\n",
        "        n+=1\n",
        "    yr+=1\n",
        "print(\", \".join(lst_yrs))"
      ],
      "execution_count": 2,
      "outputs": [
        {
          "output_type": "stream",
          "text": [
            "2002\n",
            "2004, 2008, 2012, 2016, 2020, 2024, 2028, 2032, 2036, 2040, 2044, 2048, 2052, 2056, 2060\n"
          ],
          "name": "stdout"
        }
      ]
    },
    {
      "cell_type": "markdown",
      "metadata": {
        "id": "LeX3Km_99KbD"
      },
      "source": [
        "python program for string palindrome"
      ]
    },
    {
      "cell_type": "code",
      "metadata": {
        "colab": {
          "base_uri": "https://localhost:8080/"
        },
        "id": "Az17IS5R9Syq",
        "outputId": "6a471db9-1434-492c-ec3b-ff804076a0f7"
      },
      "source": [
        "a=input()\n",
        "b=a.lower()\n",
        "z=b[::-1]\n",
        "if (z==b):\n",
        "    print(\"Palindrome\")\n",
        "else:\n",
        "    print(\"Not Palindrome\")"
      ],
      "execution_count": 3,
      "outputs": [
        {
          "output_type": "stream",
          "text": [
            "dharaneesh\n",
            "Not Palindrome\n"
          ],
          "name": "stdout"
        }
      ]
    }
  ]
}